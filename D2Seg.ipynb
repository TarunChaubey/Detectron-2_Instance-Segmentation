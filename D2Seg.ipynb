{
 "cells": [
  {
   "cell_type": "code",
   "execution_count": 1,
   "id": "0421db84",
   "metadata": {},
   "outputs": [],
   "source": []
  },
  {
   "cell_type": "code",
   "execution_count": 14,
   "id": "6ce8ef94",
   "metadata": {},
   "outputs": [],
   "source": [
    "from PIL import Image\n",
    "import numpy as np\n",
    "import cv2\n",
    "import os\n",
    "import os, json, cv2, random\n",
    "\n",
    "from detectron2.data.datasets import register_coco_instances\n",
    "from detectron2.data import MetadataCatalog, DatasetCatalog\n",
    "from detectron2.utils.visualizer import Visualizer\n",
    "from detectron2.engine import DefaultPredictor\n",
    "from detectron2.config import get_cfg\n",
    "from detectron2 import model_zoo\n",
    "\n",
    "\n",
    "\n",
    "cfg = get_cfg()\n",
    "cfg.merge_from_file(model_zoo.get_config_file(\"COCO-InstanceSegmentation/mask_rcnn_R_50_FPN_3x.yaml\"))\n",
    "cfg.MODEL.ROI_HEADS.SCORE_THRESH_TEST = 0.7   # set a custom testing threshold\n",
    "cfg.MODEL.ROI_HEADS.NUM_CLASSES = 2\n",
    "# cfg.MODEL.WEIGHTS = \"./OutputModels/model_final.pth\"\n",
    "cfg.MODEL.WEIGHTS = \"./OutputModelsSegmentation/model_final.pth\"\n",
    "cfg.MODEL.DEVICE = \"cpu\"\n",
    "\n",
    "predictor = DefaultPredictor(cfg)\n",
    "\n",
    "\n",
    "upload_dir = \"./SegOut/\"\n",
    "predict_dir = \"./SegImages/\"\n",
    "os.makedirs(upload_dir,exist_ok=True)\n",
    "os.makedirs(predict_dir,exist_ok=True)"
   ]
  },
  {
   "cell_type": "code",
   "execution_count": 3,
   "id": "c439ef17",
   "metadata": {},
   "outputs": [
    {
     "name": "stderr",
     "output_type": "stream",
     "text": [
      "\n",
      "Category ids in annotations are not in [1, #categories]! We'll apply a mapping for you.\n",
      "\n"
     ]
    }
   ],
   "source": [
    "register_coco_instances(\"val\",{},\"Data/val.json\",\"Data/val\")\n",
    "\n",
    "val_metadata = MetadataCatalog.get('val')\n",
    "val_dicts = DatasetCatalog.get('val')"
   ]
  },
  {
   "cell_type": "code",
   "execution_count": 4,
   "id": "7c020e25",
   "metadata": {},
   "outputs": [
    {
     "data": {
      "text/plain": [
       "{'file_name': 'Data/val\\\\ISIC_0238871.jpg',\n",
       " 'height': 300,\n",
       " 'width': 300,\n",
       " 'image_id': 0,\n",
       " 'annotations': [{'iscrowd': 0,\n",
       "   'bbox': [108.0, 132.0, 43.0, 61.0],\n",
       "   'category_id': 0,\n",
       "   'segmentation': [[108.79010494752623,\n",
       "     141.22938530734632,\n",
       "     114.63718140929535,\n",
       "     168.9655172413793,\n",
       "     129.02998500749626,\n",
       "     185.60719640179911,\n",
       "     146.12143928035982,\n",
       "     193.7031484257871,\n",
       "     151.51874062968517,\n",
       "     179.46026986506746,\n",
       "     144.3223388305847,\n",
       "     166.4167916041979,\n",
       "     132.1784107946027,\n",
       "     147.07646176911544,\n",
       "     126.78110944527737,\n",
       "     132.68365817091455,\n",
       "     116.43628185907048,\n",
       "     133.43328335832084]],\n",
       "   'bbox_mode': <BoxMode.XYWH_ABS: 1>}]}"
      ]
     },
     "execution_count": 4,
     "metadata": {},
     "output_type": "execute_result"
    }
   ],
   "source": [
    "val_dicts[0]"
   ]
  },
  {
   "cell_type": "code",
   "execution_count": 15,
   "id": "d5957210",
   "metadata": {},
   "outputs": [
    {
     "name": "stdout",
     "output_type": "stream",
     "text": [
      "{'instances': Instances(num_instances=1, image_height=300, image_width=300, fields=[pred_boxes: Boxes(tensor([[107.7420, 131.6396, 151.3090, 197.4466]])), scores: tensor([0.9836]), pred_classes: tensor([0]), pred_masks: tensor([[[False, False, False,  ..., False, False, False],\n",
      "         [False, False, False,  ..., False, False, False],\n",
      "         [False, False, False,  ..., False, False, False],\n",
      "         ...,\n",
      "         [False, False, False,  ..., False, False, False],\n",
      "         [False, False, False,  ..., False, False, False],\n",
      "         [False, False, False,  ..., False, False, False]]])])}\n"
     ]
    },
    {
     "data": {
      "text/plain": [
       "True"
      ]
     },
     "execution_count": 15,
     "metadata": {},
     "output_type": "execute_result"
    }
   ],
   "source": [
    "img = Image.open(val_dicts[0][\"file_name\"])\n",
    "imgarray = np.array(img)[:, :, ::-1]\n",
    "res = predictor(imgarray)\n",
    "print(res)\n",
    "filename = val_dicts[0][\"file_name\"].split(\"\\\\\")[-1:][0]\n",
    "predict_fle = os.path.join(predict_dir,filename)\n",
    "v = Visualizer(img, metadata=val_metadata, scale=0.8)\n",
    "v = v.draw_instance_predictions(res[\"instances\"].to(\"cpu\"))\n",
    "cv2.imwrite(f\"{upload_dir}{filename}\",v.get_image()[:, :, ::-1]) #save predicted images"
   ]
  },
  {
   "cell_type": "code",
   "execution_count": 11,
   "id": "23f8bfb8",
   "metadata": {},
   "outputs": [],
   "source": [
    "def CalculateArea(mask_tensor):\n",
    "  # Move tensor to CPU if necessary\n",
    "  if mask_tensor.device.type != \"cpu\":\n",
    "      mask_tensor = mask_tensor.cpu()\n",
    "\n",
    "  # Convert mask tensor to numpy array\n",
    "  mask_array = mask_tensor.numpy()\n",
    "\n",
    "  # Compute pixel size (assuming square pixels)\n",
    "  # image_width = outputs[\"instances\"].image_width\n",
    "  # image_height = outputs[\"instances\"].image_height\n",
    "\n",
    "  image_height = 300\n",
    "  image_width = 300\n",
    "  pixel_size = (image_height*image_width) / np.prod(mask_array.shape[1:])\n",
    "  # Compute area of each mask\n",
    "  mask_areas = []\n",
    "  for mask in mask_array:\n",
    "      num_pixels = np.count_nonzero(mask)\n",
    "      mask_area = num_pixels * pixel_size\n",
    "      mask_areas.append(mask_area)\n",
    "\n",
    "  return mask_areas"
   ]
  },
  {
   "cell_type": "code",
   "execution_count": 19,
   "id": "4843eac5",
   "metadata": {},
   "outputs": [],
   "source": [
    "def ReturnMetaDeta(res):\n",
    "    pred_classes = res[\"instances\"].to(\"cpu\").pred_classes.tolist()\n",
    "    pred_scores = res[\"instances\"].to(\"cpu\").scores.tolist()\n",
    "    pred_boxes = res[\"instances\"].to(\"cpu\").pred_boxes\n",
    "    pred_masks = res[\"instances\"].to(\"cpu\").pred_masks.tolist()\n",
    "\n",
    "    image_area = CalculateArea(res[\"instances\"].to(\"cpu\").pred_masks)\n",
    "\n",
    "      # Convert the predicted class labels and scores to a dictionary\n",
    "    output = {\n",
    "          \"Predicted\": pred_classes,\n",
    "          \"scores\": pred_scores,\n",
    "          \"area\":image_area,\n",
    "          \"pred_masks\":pred_masks\n",
    "\n",
    "      }\n",
    "    return output"
   ]
  },
  {
   "cell_type": "code",
   "execution_count": 22,
   "id": "d7df664f",
   "metadata": {},
   "outputs": [],
   "source": [
    "for ind in np.random.randint(0,len(val_dicts),6):\n",
    "    img = Image.open(val_dicts[ind][\"file_name\"])\n",
    "    imgarray = np.array(img)[:, :, ::-1]\n",
    "    res = predictor(imgarray)\n",
    "\n",
    "    filename = val_dicts[ind][\"file_name\"].split(\"\\\\\")[-1:][0]\n",
    "    v = Visualizer(img, metadata=val_metadata, scale=0.8)\n",
    "    v = v.draw_instance_predictions(res[\"instances\"].to(\"cpu\"))\n",
    "    cv2.imwrite(f\"{upload_dir}{filename}\",v.get_image()[:, :, ::-1])"
   ]
  },
  {
   "cell_type": "code",
   "execution_count": null,
   "id": "92f15d48",
   "metadata": {},
   "outputs": [],
   "source": []
  }
 ],
 "metadata": {
  "kernelspec": {
   "display_name": "Python 3 (ipykernel)",
   "language": "python",
   "name": "python3"
  },
  "language_info": {
   "codemirror_mode": {
    "name": "ipython",
    "version": 3
   },
   "file_extension": ".py",
   "mimetype": "text/x-python",
   "name": "python",
   "nbconvert_exporter": "python",
   "pygments_lexer": "ipython3",
   "version": "3.8.16"
  }
 },
 "nbformat": 4,
 "nbformat_minor": 5
}
